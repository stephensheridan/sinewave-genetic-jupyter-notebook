{
 "cells": [
  {
   "cell_type": "code",
   "execution_count": 1,
   "id": "884a4beb",
   "metadata": {},
   "outputs": [],
   "source": [
    "import math\n",
    "import random"
   ]
  },
  {
   "cell_type": "code",
   "execution_count": 51,
   "id": "dd4aed95",
   "metadata": {},
   "outputs": [],
   "source": [
    "populationSize = 10\n",
    "bitlength = 10\n",
    "population = [];\n",
    "roulette = [0,0,0,0,0,0,0,0,0,0,1,1,1,1,1,1,1,1,1,2,2,2,2,2,2,2,2,3,3,3,3,3,3,3,\n",
    "           4,4,4,4,4,4,5,5,5,5,5,6,6,6,6,7,7,7,8,8,9,]\n",
    "scale = 102.3;\n",
    "rouletteSize = len(roulette)"
   ]
  },
  {
   "cell_type": "code",
   "execution_count": 71,
   "id": "7738f973",
   "metadata": {},
   "outputs": [],
   "source": [
    "# Define genetic functions\n",
    "def makePopulation(size, length):\n",
    "    for p in range(size):\n",
    "        bits = \"\"\n",
    "        for l in range(length):\n",
    "            bits = bits + str(random.randint(0, 1))\n",
    "        population.append([bits, 0])\n",
    "\n",
    "def fitnessFunc(bits):\n",
    "    x = int(bits, 2)/scale;\n",
    "    return(math.sin(x) * math.sin(0.4*x) * math.sin(3.0*x))\n",
    "\n",
    "def evaluate(population, func):\n",
    "    for x in range(populationSize):\n",
    "        population[x][1] = func(population[x][0])\n",
    "\n",
    "def byFitness(elem):\n",
    "    return elem[1]\n",
    "\n",
    "def sort(population):\n",
    "    population.sort(key=byFitness, reverse=True)\n",
    "    \n",
    "def selectParents(population):\n",
    "    p1 = random.randint(0, rouletteSize-1)\n",
    "    p2 = random.randint(0, rouletteSize-1)\n",
    "    while(roulette[p1] == roulette[p2]):\n",
    "        p1 = random.randint(0, rouletteSize-1)\n",
    "        p2 = random.randint(0, rouletteSize-1)\n",
    "    return [roulette[p1], roulette[p2]]\n",
    "\n",
    "def crossover(parent1, parent2):\n",
    "    locus = random.randint(0, bitlength-1)\n",
    "    left = parent1[0][0:locus]\n",
    "    right = parent2[0][locus:]\n",
    "    offspring = left + right;\n",
    "    return [offspring, 0]\n",
    "\n",
    "def mutate(offspring, rate):\n",
    "    bits = list(offspring[0])\n",
    "    # How many bits do we need to flip?\n",
    "    numflips = int(bitlength * rate)\n",
    "    flips = random.sample(range(bitlength), numflips)\n",
    "    for x in range(numflips):\n",
    "        if (bits[flips[x]] == '1'):\n",
    "            bits[flips[x]] = '0'\n",
    "        else:\n",
    "            bits[flips[x]] = '1'\n",
    "    return [\"\".join(bits), offspring[1]]\n",
    "\n",
    "def evolve(population, generations):\n",
    "    for gen in range(generations):\n",
    "        parents = selectParents(population) #[0,1]\n",
    "        offspring = crossover(population[parents[0]], population[parents[1]])\n",
    "        offspring = mutate(offspring, 0.4)\n",
    "        # Integrate offspring into population\n",
    "        # Replace the weakest member\n",
    "        population[populationSize-1] = offspring\n",
    "        evaluate(population, fitnessFunc)\n",
    "        sort(population)"
   ]
  },
  {
   "cell_type": "code",
   "execution_count": 53,
   "id": "2ce6eeb0",
   "metadata": {},
   "outputs": [],
   "source": [
    "makePopulation(populationSize,bitlength)"
   ]
  },
  {
   "cell_type": "code",
   "execution_count": 62,
   "id": "f6610d5e",
   "metadata": {},
   "outputs": [],
   "source": [
    "evaluate(population, fitnessFunc)"
   ]
  },
  {
   "cell_type": "code",
   "execution_count": 63,
   "id": "36a738e2",
   "metadata": {},
   "outputs": [],
   "source": [
    "sort(population)"
   ]
  },
  {
   "cell_type": "code",
   "execution_count": 64,
   "id": "13dc1c94",
   "metadata": {},
   "outputs": [
    {
     "name": "stdout",
     "output_type": "stream",
     "text": [
      "[['1001001010', 0.39419411225174467], ['1001011000', 0.2755837555827855], ['0001000000', 0.13827841684092373], ['1001110001', 0.05528539872949702], ['1010000011', 8.913379957822393e-06], ['0001101100', -0.009116531763025666], ['1110111000', -0.022695041384673497], ['1100000100', -0.07060518115078189], ['0010111110', -0.4236110328997631], ['0111011000', -0.9163030160113311]]\n"
     ]
    }
   ],
   "source": [
    "print(population)"
   ]
  },
  {
   "cell_type": "code",
   "execution_count": 75,
   "id": "081f584c",
   "metadata": {},
   "outputs": [],
   "source": [
    "evolve(population, 1000)"
   ]
  },
  {
   "cell_type": "code",
   "execution_count": 76,
   "id": "aab28bfb",
   "metadata": {},
   "outputs": [
    {
     "name": "stdout",
     "output_type": "stream",
     "text": [
      "[['0110000101', 0.5617897970394297], ['0110000111', 0.5602643914096244], ['0110000010', 0.558661661231909], ['0110001000', 0.5583869774738861], ['0110001000', 0.5583869774738861], ['0110000001', 0.5562242027389016], ['0101111101', 0.5399001172044304], ['0110001110', 0.5310722640280802], ['0110010000', 0.5157623123318935], ['0101010011', 0.08209247142127936]]\n"
     ]
    }
   ],
   "source": [
    "print(population)"
   ]
  },
  {
   "cell_type": "code",
   "execution_count": 77,
   "id": "fd23946a",
   "metadata": {},
   "outputs": [
    {
     "data": {
      "text/plain": [
       "3.8025415444770285"
      ]
     },
     "execution_count": 77,
     "metadata": {},
     "output_type": "execute_result"
    }
   ],
   "source": [
    "int('0110000101',2)/102.3"
   ]
  },
  {
   "cell_type": "code",
   "execution_count": null,
   "id": "716226e6",
   "metadata": {},
   "outputs": [],
   "source": []
  }
 ],
 "metadata": {
  "kernelspec": {
   "display_name": "Python 3 (ipykernel)",
   "language": "python",
   "name": "python3"
  },
  "language_info": {
   "codemirror_mode": {
    "name": "ipython",
    "version": 3
   },
   "file_extension": ".py",
   "mimetype": "text/x-python",
   "name": "python",
   "nbconvert_exporter": "python",
   "pygments_lexer": "ipython3",
   "version": "3.8.3"
  }
 },
 "nbformat": 4,
 "nbformat_minor": 5
}
